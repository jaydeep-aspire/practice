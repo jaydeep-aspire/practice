{
  "nbformat": 4,
  "nbformat_minor": 0,
  "metadata": {
    "colab": {
      "provenance": [],
      "authorship_tag": "ABX9TyPzYD9KXcmtLPo/b/dr8Qzp",
      "include_colab_link": true
    },
    "kernelspec": {
      "name": "python3",
      "display_name": "Python 3"
    },
    "language_info": {
      "name": "python"
    }
  },
  "cells": [
    {
      "cell_type": "markdown",
      "metadata": {
        "id": "view-in-github",
        "colab_type": "text"
      },
      "source": [
        "<a href=\"https://colab.research.google.com/github/jaydeep-aspire/practice/blob/main/Task.ipynb\" target=\"_parent\"><img src=\"https://colab.research.google.com/assets/colab-badge.svg\" alt=\"Open In Colab\"/></a>"
      ]
    },
    {
      "cell_type": "markdown",
      "source": [
        "TASK 1"
      ],
      "metadata": {
        "id": "07ajFqrEJ0qv"
      }
    },
    {
      "cell_type": "code",
      "execution_count": 2,
      "metadata": {
        "colab": {
          "base_uri": "https://localhost:8080/"
        },
        "id": "UssNOVUmJmVC",
        "outputId": "c4cb80a6-5560-46fd-b7c9-af8e0f3fb188"
      },
      "outputs": [
        {
          "output_type": "stream",
          "name": "stdout",
          "text": [
            "Please Enter Integer:12\n",
            "[16, 25, 36, 49, 64, 81]\n",
            "78\n"
          ]
        }
      ],
      "source": [
        "import math\n",
        "def perfectSqare(n):\n",
        "    count = 0\n",
        "    ans = []\n",
        "    while count<=5:\n",
        "        x = math.sqrt(n)\n",
        "        integer = int(x)\n",
        "        if integer**2==n:\n",
        "            ans.append(n)\n",
        "            count+=1\n",
        "            n+=1\n",
        "        else:\n",
        "            n+=1\n",
        "            continue\n",
        "\n",
        "    print(ans)\n",
        "def sumOfseriesUpToNmber(n):\n",
        "    ans = int(n*(n+1)/2)\n",
        "    print(ans)\n",
        "\n",
        "n = int(input(\"Please Enter Integer:\"))\n",
        "perfectSqare(n)\n",
        "sumOfseriesUpToNmber(n)\n"
      ]
    },
    {
      "cell_type": "markdown",
      "source": [
        "TASK 2\n"
      ],
      "metadata": {
        "id": "Cw6FhOaqKCC0"
      }
    },
    {
      "cell_type": "code",
      "source": [
        "def decimalToBinary(n):\n",
        "    ans = ''\n",
        "    while n>=1:\n",
        "        ref = str(n%2)\n",
        "        ans+=ref\n",
        "        n = n//2\n",
        "    print(ans[::-1])\n",
        "\n",
        "def decimalTOOcatal(n):\n",
        "    ans = ''\n",
        "    while n>=1:\n",
        "        ref = str(n%8)\n",
        "        ans+=ref\n",
        "        n = n//8\n",
        "\n",
        "    print(ans[::-1])\n",
        "\n",
        "\n",
        "\n",
        "def decimalToHexaDecimal(n):\n",
        "    ans = ''\n",
        "    while n>=1:\n",
        "        ref = str(n%16)\n",
        "        ans+=ref\n",
        "        n = n//16\n",
        "    print(ans[::-1])\n",
        "\n",
        "n = int(input(\"Please Enter Integer:\"))\n",
        "decimalToBinary(n)\n",
        "decimalTOOcatal(n)\n",
        "decimalToHexaDecimal(n)\n"
      ],
      "metadata": {
        "colab": {
          "base_uri": "https://localhost:8080/"
        },
        "id": "aBz3omKhJrcV",
        "outputId": "3688f601-414e-4559-d88f-320d1a98a900"
      },
      "execution_count": 3,
      "outputs": [
        {
          "output_type": "stream",
          "name": "stdout",
          "text": [
            "Please Enter Integer:45\n",
            "101101\n",
            "55\n",
            "231\n"
          ]
        }
      ]
    },
    {
      "cell_type": "markdown",
      "source": [
        "TASK 3\n"
      ],
      "metadata": {
        "id": "_9LJFuAzKLr-"
      }
    },
    {
      "cell_type": "code",
      "source": [
        "def pattern(n):\n",
        "    for i in range(1,n+1):\n",
        "        for j in range(1,i+1):\n",
        "            print(j,end=' ')\n",
        "        space = 2*n - (2*(i)+1)\n",
        "        for j in range(0,space+1):\n",
        "            print(\" \",end =' ')\n",
        "        for j in range(i,0,-1):\n",
        "            print(j,end = ' ')\n",
        "        print()\n",
        "n = int(input(\"please enter integer:\"))\n",
        "pattern(n)"
      ],
      "metadata": {
        "colab": {
          "base_uri": "https://localhost:8080/"
        },
        "id": "H4J24Na4KJoq",
        "outputId": "97556a75-e5d4-4b6a-dbe7-235e354fc6ef"
      },
      "execution_count": 4,
      "outputs": [
        {
          "output_type": "stream",
          "name": "stdout",
          "text": [
            "please enter integer:10\n",
            "1                                     1 \n",
            "1 2                                 2 1 \n",
            "1 2 3                             3 2 1 \n",
            "1 2 3 4                         4 3 2 1 \n",
            "1 2 3 4 5                     5 4 3 2 1 \n",
            "1 2 3 4 5 6                 6 5 4 3 2 1 \n",
            "1 2 3 4 5 6 7             7 6 5 4 3 2 1 \n",
            "1 2 3 4 5 6 7 8         8 7 6 5 4 3 2 1 \n",
            "1 2 3 4 5 6 7 8 9     9 8 7 6 5 4 3 2 1 \n",
            "1 2 3 4 5 6 7 8 9 10 10 9 8 7 6 5 4 3 2 1 \n"
          ]
        }
      ]
    },
    {
      "cell_type": "markdown",
      "source": [
        "TASK 4"
      ],
      "metadata": {
        "id": "fWiaR63HKRme"
      }
    },
    {
      "cell_type": "code",
      "source": [
        "def pattern(n):\n",
        "    for i in range(n):\n",
        "        space = n-i\n",
        "        for j in range(space):\n",
        "            print(\" \",end=\" \")\n",
        "        for j in range(i+1):\n",
        "            print(chr(((65+j))),end = \" \")\n",
        "        for j in range(i,0,-1):\n",
        "            print(chr(((j+65-1))),end=\" \")\n",
        "        print()\n",
        "\n",
        "\n",
        "n = int(input(\"PLease Enter Integer:\"))\n",
        "pattern(n)"
      ],
      "metadata": {
        "colab": {
          "base_uri": "https://localhost:8080/"
        },
        "id": "w2b_NNHIKPii",
        "outputId": "d4d41ed2-8e8d-4aee-88e2-05bb7a007aa4"
      },
      "execution_count": 7,
      "outputs": [
        {
          "output_type": "stream",
          "name": "stdout",
          "text": [
            "PLease Enter Integer:5\n",
            "          A \n",
            "        A B A \n",
            "      A B C B A \n",
            "    A B C D C B A \n",
            "  A B C D E D C B A \n"
          ]
        }
      ]
    },
    {
      "cell_type": "markdown",
      "source": [
        "TASK 5"
      ],
      "metadata": {
        "id": "fY7BpMkSKWh4"
      }
    },
    {
      "cell_type": "code",
      "source": [
        "def pattern(n):\n",
        "    for i in range(1,n+1):\n",
        "        space = n - i\n",
        "        a = 0\n",
        "        b = 1\n",
        "        for j in range(space):\n",
        "            print(\" \",end=\"\")\n",
        "        while i:\n",
        "            c = a\n",
        "            a = b\n",
        "            b = c+a\n",
        "            print(c,end=\" \")\n",
        "            i-=1\n",
        "\n",
        "        print()\n",
        "    for i in range(n-1,0,-1):\n",
        "        space = n - i\n",
        "        a = 0\n",
        "        b = 1\n",
        "        for j in range(space):\n",
        "            print(\" \",end=\"\")\n",
        "        while i:\n",
        "            c = a\n",
        "            a = b\n",
        "            b = c+a\n",
        "            print(c,end=\" \")\n",
        "            i-=1\n",
        "\n",
        "        print()\n",
        "\n",
        "\n",
        "def fibonaci(n):\n",
        "    a = 0\n",
        "    b = 1\n",
        "    while n:\n",
        "        c = a\n",
        "        a = b\n",
        "        b = c\n",
        "        n-=1\n",
        "    return\n",
        "\n",
        "\n",
        "n = int(input(\"Please Enter Integer Input:\"))\n",
        "pattern(n)"
      ],
      "metadata": {
        "colab": {
          "base_uri": "https://localhost:8080/"
        },
        "id": "0Yil2TruKbsU",
        "outputId": "920b6aac-a3d3-447f-9576-7cabdba6d47f"
      },
      "execution_count": 8,
      "outputs": [
        {
          "output_type": "stream",
          "name": "stdout",
          "text": [
            "Please Enter Integer Input:5\n",
            "    0 \n",
            "   0 1 \n",
            "  0 1 1 \n",
            " 0 1 1 2 \n",
            "0 1 1 2 3 \n",
            " 0 1 1 2 \n",
            "  0 1 1 \n",
            "   0 1 \n",
            "    0 \n"
          ]
        }
      ]
    },
    {
      "cell_type": "markdown",
      "source": [
        "TASK 6"
      ],
      "metadata": {
        "id": "W0VEyjeXKg2Z"
      }
    },
    {
      "cell_type": "code",
      "source": [
        "def pattern(n):\n",
        "   for i in range(1,n+1):\n",
        "       space = n - i\n",
        "       a = 0\n",
        "       b = 1\n",
        "       for j in range(space):\n",
        "           print(\" \",end=\"\")\n",
        "       while i:\n",
        "           c = a\n",
        "           a = b\n",
        "           b = c+a\n",
        "           print(c,end=\" \")\n",
        "           i-=1\n",
        "\n",
        "       print()\n",
        "   for i in range(n-1,0,-1):\n",
        "       space = n - i\n",
        "       a = 0\n",
        "       b = 1\n",
        "       for j in range(space):\n",
        "           print(\" \",end=\"\")\n",
        "       while i:\n",
        "           c = a\n",
        "           a = b\n",
        "           b = c+a\n",
        "           print(c,end=\" \")\n",
        "           i-=1\n",
        "\n",
        "       print()\n",
        "\n",
        "\n",
        "def fibonaci(n):\n",
        "   a = 0\n",
        "   b = 1\n",
        "   while n:\n",
        "       c = a\n",
        "       a = b\n",
        "       b = c\n",
        "       n-=1\n",
        "   return\n",
        "\n",
        "\n",
        "n = int(input(\"Please Enter Integer Input:\"))\n",
        "pattern(n)"
      ],
      "metadata": {
        "colab": {
          "base_uri": "https://localhost:8080/"
        },
        "id": "ohoC-JzIKend",
        "outputId": "1ed4591a-4fc1-4d81-c509-3cceb888bb0b"
      },
      "execution_count": 9,
      "outputs": [
        {
          "output_type": "stream",
          "name": "stdout",
          "text": [
            "Please Enter Integer Input:5\n",
            "    0 \n",
            "   0 1 \n",
            "  0 1 1 \n",
            " 0 1 1 2 \n",
            "0 1 1 2 3 \n",
            " 0 1 1 2 \n",
            "  0 1 1 \n",
            "   0 1 \n",
            "    0 \n"
          ]
        }
      ]
    },
    {
      "cell_type": "markdown",
      "source": [
        "TASK 7"
      ],
      "metadata": {
        "id": "0FRbLwCHKlX_"
      }
    },
    {
      "cell_type": "code",
      "source": [
        "class Stack:\n",
        "    def __init__(self,st= []) -> None:\n",
        "        self.stack = st\n",
        "    def push(self,data:int):\n",
        "        self.stack.append(data)\n",
        "    def pop(self)->int:\n",
        "        if len(self.stack)==0:\n",
        "            return -1\n",
        "        return self.stack.pop(-1)\n",
        "    def Top(self)->int:\n",
        "        if len(self.stack)==0:\n",
        "            return -1\n",
        "        return self.stack[-1]\n",
        "    def printStack(self):\n",
        "        print(self.stack)\n",
        "st = Stack()\n",
        "print(\"1. push element in stack\")\n",
        "print(\"2. pop element fron stack\")\n",
        "print(\"3. get top element from stack\")\n",
        "print(\"4. print stack element\")\n",
        "print(\"5. Exit from terminal\")\n",
        "choice = int(input(\"Please enter Your choice:\"))\n",
        "while choice!=5:\n",
        "    print(\"------------------------------------------\")\n",
        "    print(\"1. push element in stack\")\n",
        "    print(\"2. pop element fron stack\")\n",
        "    print(\"3. get top element from stack\")\n",
        "    print(\"4. print stack element\")\n",
        "    print(\"5. Exit from terminal\")\n",
        "    choice = int(input(\"Please enter Your choice:\"))\n",
        "\n",
        "    match choice:\n",
        "        case 1:\n",
        "            data = int(input(\"please enter element data to push:\"))\n",
        "            st.push(data)\n",
        "\n",
        "        case 2:\n",
        "            ans = st.pop()\n",
        "            if ans == -1:\n",
        "                print(\"stack is empty\")\n",
        "            else:\n",
        "                print(\"element are pop from the stack\")\n",
        "\n",
        "        case 3:\n",
        "            ans = st.Top()\n",
        "            if ans==-1:\n",
        "                print(\"stack is empty\")\n",
        "            else:\n",
        "                print(ans)\n",
        "\n",
        "        case 4:\n",
        "            st.printStack()\n",
        "\n",
        "        case _:\n",
        "            print(\"Please Enter valid chioce\")\n"
      ],
      "metadata": {
        "colab": {
          "base_uri": "https://localhost:8080/"
        },
        "id": "469LfSgGKnSj",
        "outputId": "871aaa94-f454-4824-f1e8-780ebc78edd9"
      },
      "execution_count": 10,
      "outputs": [
        {
          "output_type": "stream",
          "name": "stdout",
          "text": [
            "1. push element in stack\n",
            "2. pop element fron stack\n",
            "3. get top element from stack\n",
            "4. print stack element\n",
            "5. Exit from terminal\n",
            "Please enter Your choice:1\n",
            "------------------------------------------\n",
            "1. push element in stack\n",
            "2. pop element fron stack\n",
            "3. get top element from stack\n",
            "4. print stack element\n",
            "5. Exit from terminal\n",
            "Please enter Your choice:10\n",
            "Please Enter valid chioce\n",
            "------------------------------------------\n",
            "1. push element in stack\n",
            "2. pop element fron stack\n",
            "3. get top element from stack\n",
            "4. print stack element\n",
            "5. Exit from terminal\n",
            "Please enter Your choice:1\n",
            "please enter element data to push:20\n",
            "------------------------------------------\n",
            "1. push element in stack\n",
            "2. pop element fron stack\n",
            "3. get top element from stack\n",
            "4. print stack element\n",
            "5. Exit from terminal\n",
            "Please enter Your choice:4\n",
            "[20]\n",
            "------------------------------------------\n",
            "1. push element in stack\n",
            "2. pop element fron stack\n",
            "3. get top element from stack\n",
            "4. print stack element\n",
            "5. Exit from terminal\n",
            "Please enter Your choice:4\n",
            "[20]\n",
            "------------------------------------------\n",
            "1. push element in stack\n",
            "2. pop element fron stack\n",
            "3. get top element from stack\n",
            "4. print stack element\n",
            "5. Exit from terminal\n",
            "Please enter Your choice:1\n",
            "please enter element data to push:10\n",
            "------------------------------------------\n",
            "1. push element in stack\n",
            "2. pop element fron stack\n",
            "3. get top element from stack\n",
            "4. print stack element\n",
            "5. Exit from terminal\n",
            "Please enter Your choice:4\n",
            "[20, 10]\n",
            "------------------------------------------\n",
            "1. push element in stack\n",
            "2. pop element fron stack\n",
            "3. get top element from stack\n",
            "4. print stack element\n",
            "5. Exit from terminal\n",
            "Please enter Your choice:5\n",
            "Please Enter valid chioce\n"
          ]
        }
      ]
    },
    {
      "cell_type": "markdown",
      "source": [
        "TASK 8"
      ],
      "metadata": {
        "id": "TTeFCxXFKsCg"
      }
    },
    {
      "cell_type": "code",
      "source": [
        "def insertionSort(arr):\n",
        "    for i in range(1,len(arr)):\n",
        "        key = arr[i]\n",
        "        j = i-1\n",
        "        while j>=0 and key<arr[j]:\n",
        "            arr[j+1] = arr[j]\n",
        "            j-=1\n",
        "        arr[j+1] = key\n",
        "\n",
        "\n",
        "arr = [10,45,1,85,100,123]\n",
        "insertionSort(arr)\n",
        "print(arr)"
      ],
      "metadata": {
        "colab": {
          "base_uri": "https://localhost:8080/"
        },
        "id": "h-gWfoc8KtIT",
        "outputId": "281a57c7-8b1f-4c65-cfe6-76ac9015b579"
      },
      "execution_count": 11,
      "outputs": [
        {
          "output_type": "stream",
          "name": "stdout",
          "text": [
            "[1, 10, 45, 85, 100, 123]\n"
          ]
        }
      ]
    },
    {
      "cell_type": "markdown",
      "source": [
        "TASK 9"
      ],
      "metadata": {
        "id": "T6EDEswXKveA"
      }
    },
    {
      "cell_type": "code",
      "source": [
        "def MergeSort(arr):\n",
        "    if len(arr)>1:\n",
        "        mid = len(arr)//2\n",
        "        left = arr[:mid]\n",
        "        right = arr[mid:]\n",
        "        MergeSort(left)\n",
        "        MergeSort(right)\n",
        "        i = j = k = 0\n",
        "        while i<len(left) and j<len(right):\n",
        "            if left[i]<right[j]:\n",
        "                arr[k] = left[i]\n",
        "                i+=1\n",
        "                k+=1\n",
        "            else:\n",
        "                arr[k] = right[j]\n",
        "                j+=1\n",
        "                k+=1\n",
        "\n",
        "        while i<len(left):\n",
        "            arr[k] = left[i]\n",
        "            i+=1\n",
        "            k+=1\n",
        "        while j<len(right):\n",
        "            arr[k] = right[j]\n",
        "            j+=1\n",
        "            k+=1\n",
        "\n",
        "arr = [12,45,10,1,2,5,84,96,0,-1]\n",
        "MergeSort(arr)\n",
        "print(arr)"
      ],
      "metadata": {
        "colab": {
          "base_uri": "https://localhost:8080/"
        },
        "id": "WUTXxsZ1KwYD",
        "outputId": "e16270e3-a136-43e0-d69c-04c869a07ba3"
      },
      "execution_count": 12,
      "outputs": [
        {
          "output_type": "stream",
          "name": "stdout",
          "text": [
            "[-1, 0, 1, 2, 5, 10, 12, 45, 84, 96]\n"
          ]
        }
      ]
    },
    {
      "cell_type": "markdown",
      "source": [
        "TASK 10"
      ],
      "metadata": {
        "id": "_uAdQkz_Kyh5"
      }
    },
    {
      "cell_type": "code",
      "source": [
        "def printSpiral(size):\n",
        "\trow, col = 0, 0\n",
        "\tboundary = size - 1\n",
        "\tsizeLeft = size - 1\n",
        "\tflag = 1\n",
        "\tmove = 'r'\n",
        "\tmatrix = [[0 for j in range(size)] for i in range(size)]\n",
        "\n",
        "\tfor i in range(1, size * size + 1):\n",
        "\t\tmatrix[row][col] = i\n",
        "\t\tif move == 'r':\n",
        "\t\t\tcol += 1\n",
        "\t\telif move == 'l':\n",
        "\t\t\tcol -= 1\n",
        "\t\telif move == 'u':\n",
        "\t\t\trow -= 1\n",
        "\t\telif move == 'd':\n",
        "\t\t\trow += 1\n",
        "\t\tif i == boundary:\n",
        "\t\t\tboundary += sizeLeft\n",
        "\t\t\tif flag != 2:\n",
        "\t\t\t\tflag = 2\n",
        "\t\t\telse:\n",
        "\t\t\t\tflag = 1\n",
        "\t\t\t\tsizeLeft -= 1\n",
        "\t\t\tif move == 'r':\n",
        "\t\t\t\tmove = 'd'\n",
        "\t\t\telif move == 'd':\n",
        "\t\t\t\tmove = 'l'\n",
        "\t\t\telif move == 'l':\n",
        "\t\t\t\tmove = 'u'\n",
        "\t\t\telif move == 'u':\n",
        "\t\t\t\tmove = 'r'\n",
        "\tfor row in range(size):\n",
        "\t\tfor col in range(size):\n",
        "\t\t\tn = matrix[row][col]\n",
        "\t\t\tprint(n, end=' ' if n < 10 else ' ')\n",
        "\t\tprint()\n",
        "size = int(input(\"Please Enter Integer:\"))\n",
        "printSpiral(size)\n"
      ],
      "metadata": {
        "colab": {
          "base_uri": "https://localhost:8080/"
        },
        "id": "QqdKcaWYKzRV",
        "outputId": "3e739fa8-208d-41a9-bfcd-c6520ed6b6d5"
      },
      "execution_count": 13,
      "outputs": [
        {
          "output_type": "stream",
          "name": "stdout",
          "text": [
            "Please Enter Integer:5\n",
            "1 2 3 4 5 \n",
            "16 17 18 19 6 \n",
            "15 24 25 20 7 \n",
            "14 23 22 21 8 \n",
            "13 12 11 10 9 \n"
          ]
        }
      ]
    },
    {
      "cell_type": "markdown",
      "source": [
        "TASK 11"
      ],
      "metadata": {
        "id": "FceWnkZNK1oo"
      }
    },
    {
      "cell_type": "code",
      "source": [
        "def pattern(n):\n",
        "    for i in range(n, 0, -1):\n",
        "        print(i, end=\" \")\n",
        "    print()\n",
        "    for i in range(n+1,n+(n//2)+1):\n",
        "        print(i)\n",
        "    for i in range(n+(n//2+1),2*n + n//2+1):\n",
        "        print(i, end=\" \")\n",
        "num = int(input(\"Enter a number: \"))\n",
        "pattern(num)\n"
      ],
      "metadata": {
        "colab": {
          "base_uri": "https://localhost:8080/"
        },
        "id": "TYg7W0PTK3BT",
        "outputId": "eb52f71a-8111-4f1f-d773-fc886a968b52"
      },
      "execution_count": 14,
      "outputs": [
        {
          "output_type": "stream",
          "name": "stdout",
          "text": [
            "Enter a number: 4\n",
            "4 3 2 1 \n",
            "5\n",
            "6\n",
            "7 8 9 10 "
          ]
        }
      ]
    },
    {
      "cell_type": "markdown",
      "source": [
        "TASK 12"
      ],
      "metadata": {
        "id": "9XfljEkfK5Cz"
      }
    },
    {
      "cell_type": "code",
      "source": [
        "def series(n):\n",
        "    for i in range(n):\n",
        "        print((i*i*i + 5*i + 6)//6,end=\" \")\n",
        "\n",
        "\n",
        "n = int(input(\"Please Enter Integer:\"))\n",
        "series(n)"
      ],
      "metadata": {
        "colab": {
          "base_uri": "https://localhost:8080/"
        },
        "id": "HiRvad6wK6OE",
        "outputId": "65373d68-bc05-477f-fd82-09dda237e462"
      },
      "execution_count": 15,
      "outputs": [
        {
          "output_type": "stream",
          "name": "stdout",
          "text": [
            "Please Enter Integer:10\n",
            "1 2 4 8 15 26 42 64 93 130 "
          ]
        }
      ]
    },
    {
      "cell_type": "code",
      "source": [],
      "metadata": {
        "id": "A1QPDOsKK8vu"
      },
      "execution_count": null,
      "outputs": []
    }
  ]
}